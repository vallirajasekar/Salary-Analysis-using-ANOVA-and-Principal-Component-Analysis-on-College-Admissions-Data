{
 "cells": [
  {
   "cell_type": "markdown",
   "id": "cc0f0ab4",
   "metadata": {},
   "source": [
    "The staff of a service center for electrical appliances include three technicians who specialize in\n",
    "repairing three widely used electrical appliances by three different manufacturers. It was desired\n",
    "to study the effects of Technician and Manufacturer on the service time. Each technician was\n",
    "randomly assigned five repair jobs on each manufacturer's appliance and the time to complete\n",
    "each job (in minutes) was recorded. The data for this particular experiment is thus attached."
   ]
  },
  {
   "cell_type": "code",
   "execution_count": 1,
   "id": "a0978774",
   "metadata": {},
   "outputs": [],
   "source": [
    "import numpy as np\n",
    "import pandas as pd\n",
    "import seaborn as sns\n",
    "from statsmodels.formula.api import ols      # For n-way ANOVA\n",
    "from statsmodels.stats.anova import _get_covariance,anova_lm # For n-way ANOVA\n",
    "%matplotlib inline"
   ]
  },
  {
   "cell_type": "code",
   "execution_count": 2,
   "id": "71bcad95",
   "metadata": {},
   "outputs": [],
   "source": [
    "df_1=pd.read_csv(\"Service (1) (1) (2) (1) (1).csv\")"
   ]
  },
  {
   "cell_type": "code",
   "execution_count": 3,
   "id": "a6e4dab8",
   "metadata": {},
   "outputs": [
    {
     "data": {
      "text/html": [
       "<div>\n",
       "<style scoped>\n",
       "    .dataframe tbody tr th:only-of-type {\n",
       "        vertical-align: middle;\n",
       "    }\n",
       "\n",
       "    .dataframe tbody tr th {\n",
       "        vertical-align: top;\n",
       "    }\n",
       "\n",
       "    .dataframe thead th {\n",
       "        text-align: right;\n",
       "    }\n",
       "</style>\n",
       "<table border=\"1\" class=\"dataframe\">\n",
       "  <thead>\n",
       "    <tr style=\"text-align: right;\">\n",
       "      <th></th>\n",
       "      <th>Technician</th>\n",
       "      <th>Manufacturer</th>\n",
       "      <th>Job</th>\n",
       "      <th>Service_Time</th>\n",
       "    </tr>\n",
       "  </thead>\n",
       "  <tbody>\n",
       "    <tr>\n",
       "      <th>0</th>\n",
       "      <td>1</td>\n",
       "      <td>1</td>\n",
       "      <td>1</td>\n",
       "      <td>62</td>\n",
       "    </tr>\n",
       "    <tr>\n",
       "      <th>1</th>\n",
       "      <td>1</td>\n",
       "      <td>1</td>\n",
       "      <td>2</td>\n",
       "      <td>48</td>\n",
       "    </tr>\n",
       "    <tr>\n",
       "      <th>2</th>\n",
       "      <td>1</td>\n",
       "      <td>1</td>\n",
       "      <td>3</td>\n",
       "      <td>63</td>\n",
       "    </tr>\n",
       "    <tr>\n",
       "      <th>3</th>\n",
       "      <td>1</td>\n",
       "      <td>1</td>\n",
       "      <td>4</td>\n",
       "      <td>57</td>\n",
       "    </tr>\n",
       "    <tr>\n",
       "      <th>4</th>\n",
       "      <td>1</td>\n",
       "      <td>1</td>\n",
       "      <td>5</td>\n",
       "      <td>69</td>\n",
       "    </tr>\n",
       "  </tbody>\n",
       "</table>\n",
       "</div>"
      ],
      "text/plain": [
       "   Technician  Manufacturer  Job  Service_Time\n",
       "0           1             1    1            62\n",
       "1           1             1    2            48\n",
       "2           1             1    3            63\n",
       "3           1             1    4            57\n",
       "4           1             1    5            69"
      ]
     },
     "execution_count": 3,
     "metadata": {},
     "output_type": "execute_result"
    }
   ],
   "source": [
    "df_1.head()"
   ]
  },
  {
   "cell_type": "code",
   "execution_count": 4,
   "id": "1d2858af",
   "metadata": {},
   "outputs": [
    {
     "data": {
      "text/html": [
       "<div>\n",
       "<style scoped>\n",
       "    .dataframe tbody tr th:only-of-type {\n",
       "        vertical-align: middle;\n",
       "    }\n",
       "\n",
       "    .dataframe tbody tr th {\n",
       "        vertical-align: top;\n",
       "    }\n",
       "\n",
       "    .dataframe thead th {\n",
       "        text-align: right;\n",
       "    }\n",
       "</style>\n",
       "<table border=\"1\" class=\"dataframe\">\n",
       "  <thead>\n",
       "    <tr style=\"text-align: right;\">\n",
       "      <th></th>\n",
       "      <th>Technician</th>\n",
       "      <th>Manufacturer</th>\n",
       "      <th>Job</th>\n",
       "      <th>Service_Time</th>\n",
       "    </tr>\n",
       "  </thead>\n",
       "  <tbody>\n",
       "    <tr>\n",
       "      <th>0</th>\n",
       "      <td>1</td>\n",
       "      <td>1</td>\n",
       "      <td>1</td>\n",
       "      <td>62</td>\n",
       "    </tr>\n",
       "    <tr>\n",
       "      <th>1</th>\n",
       "      <td>1</td>\n",
       "      <td>1</td>\n",
       "      <td>2</td>\n",
       "      <td>48</td>\n",
       "    </tr>\n",
       "    <tr>\n",
       "      <th>2</th>\n",
       "      <td>1</td>\n",
       "      <td>1</td>\n",
       "      <td>3</td>\n",
       "      <td>63</td>\n",
       "    </tr>\n",
       "    <tr>\n",
       "      <th>3</th>\n",
       "      <td>1</td>\n",
       "      <td>1</td>\n",
       "      <td>4</td>\n",
       "      <td>57</td>\n",
       "    </tr>\n",
       "    <tr>\n",
       "      <th>4</th>\n",
       "      <td>1</td>\n",
       "      <td>1</td>\n",
       "      <td>5</td>\n",
       "      <td>69</td>\n",
       "    </tr>\n",
       "    <tr>\n",
       "      <th>5</th>\n",
       "      <td>1</td>\n",
       "      <td>2</td>\n",
       "      <td>1</td>\n",
       "      <td>57</td>\n",
       "    </tr>\n",
       "    <tr>\n",
       "      <th>6</th>\n",
       "      <td>1</td>\n",
       "      <td>2</td>\n",
       "      <td>2</td>\n",
       "      <td>45</td>\n",
       "    </tr>\n",
       "    <tr>\n",
       "      <th>7</th>\n",
       "      <td>1</td>\n",
       "      <td>2</td>\n",
       "      <td>3</td>\n",
       "      <td>39</td>\n",
       "    </tr>\n",
       "    <tr>\n",
       "      <th>8</th>\n",
       "      <td>1</td>\n",
       "      <td>2</td>\n",
       "      <td>4</td>\n",
       "      <td>54</td>\n",
       "    </tr>\n",
       "    <tr>\n",
       "      <th>9</th>\n",
       "      <td>1</td>\n",
       "      <td>2</td>\n",
       "      <td>5</td>\n",
       "      <td>44</td>\n",
       "    </tr>\n",
       "    <tr>\n",
       "      <th>10</th>\n",
       "      <td>1</td>\n",
       "      <td>3</td>\n",
       "      <td>1</td>\n",
       "      <td>59</td>\n",
       "    </tr>\n",
       "    <tr>\n",
       "      <th>11</th>\n",
       "      <td>1</td>\n",
       "      <td>3</td>\n",
       "      <td>2</td>\n",
       "      <td>53</td>\n",
       "    </tr>\n",
       "    <tr>\n",
       "      <th>12</th>\n",
       "      <td>1</td>\n",
       "      <td>3</td>\n",
       "      <td>3</td>\n",
       "      <td>67</td>\n",
       "    </tr>\n",
       "    <tr>\n",
       "      <th>13</th>\n",
       "      <td>1</td>\n",
       "      <td>3</td>\n",
       "      <td>4</td>\n",
       "      <td>66</td>\n",
       "    </tr>\n",
       "    <tr>\n",
       "      <th>14</th>\n",
       "      <td>1</td>\n",
       "      <td>3</td>\n",
       "      <td>5</td>\n",
       "      <td>47</td>\n",
       "    </tr>\n",
       "    <tr>\n",
       "      <th>15</th>\n",
       "      <td>2</td>\n",
       "      <td>1</td>\n",
       "      <td>1</td>\n",
       "      <td>51</td>\n",
       "    </tr>\n",
       "    <tr>\n",
       "      <th>16</th>\n",
       "      <td>2</td>\n",
       "      <td>1</td>\n",
       "      <td>2</td>\n",
       "      <td>57</td>\n",
       "    </tr>\n",
       "    <tr>\n",
       "      <th>17</th>\n",
       "      <td>2</td>\n",
       "      <td>1</td>\n",
       "      <td>3</td>\n",
       "      <td>45</td>\n",
       "    </tr>\n",
       "    <tr>\n",
       "      <th>18</th>\n",
       "      <td>2</td>\n",
       "      <td>1</td>\n",
       "      <td>4</td>\n",
       "      <td>50</td>\n",
       "    </tr>\n",
       "    <tr>\n",
       "      <th>19</th>\n",
       "      <td>2</td>\n",
       "      <td>1</td>\n",
       "      <td>5</td>\n",
       "      <td>39</td>\n",
       "    </tr>\n",
       "    <tr>\n",
       "      <th>20</th>\n",
       "      <td>2</td>\n",
       "      <td>2</td>\n",
       "      <td>1</td>\n",
       "      <td>61</td>\n",
       "    </tr>\n",
       "    <tr>\n",
       "      <th>21</th>\n",
       "      <td>2</td>\n",
       "      <td>2</td>\n",
       "      <td>2</td>\n",
       "      <td>58</td>\n",
       "    </tr>\n",
       "    <tr>\n",
       "      <th>22</th>\n",
       "      <td>2</td>\n",
       "      <td>2</td>\n",
       "      <td>3</td>\n",
       "      <td>70</td>\n",
       "    </tr>\n",
       "    <tr>\n",
       "      <th>23</th>\n",
       "      <td>2</td>\n",
       "      <td>2</td>\n",
       "      <td>4</td>\n",
       "      <td>66</td>\n",
       "    </tr>\n",
       "    <tr>\n",
       "      <th>24</th>\n",
       "      <td>2</td>\n",
       "      <td>2</td>\n",
       "      <td>5</td>\n",
       "      <td>51</td>\n",
       "    </tr>\n",
       "    <tr>\n",
       "      <th>25</th>\n",
       "      <td>2</td>\n",
       "      <td>3</td>\n",
       "      <td>1</td>\n",
       "      <td>55</td>\n",
       "    </tr>\n",
       "    <tr>\n",
       "      <th>26</th>\n",
       "      <td>2</td>\n",
       "      <td>3</td>\n",
       "      <td>2</td>\n",
       "      <td>58</td>\n",
       "    </tr>\n",
       "    <tr>\n",
       "      <th>27</th>\n",
       "      <td>2</td>\n",
       "      <td>3</td>\n",
       "      <td>3</td>\n",
       "      <td>50</td>\n",
       "    </tr>\n",
       "    <tr>\n",
       "      <th>28</th>\n",
       "      <td>2</td>\n",
       "      <td>3</td>\n",
       "      <td>4</td>\n",
       "      <td>69</td>\n",
       "    </tr>\n",
       "    <tr>\n",
       "      <th>29</th>\n",
       "      <td>2</td>\n",
       "      <td>3</td>\n",
       "      <td>5</td>\n",
       "      <td>49</td>\n",
       "    </tr>\n",
       "    <tr>\n",
       "      <th>30</th>\n",
       "      <td>3</td>\n",
       "      <td>1</td>\n",
       "      <td>1</td>\n",
       "      <td>59</td>\n",
       "    </tr>\n",
       "    <tr>\n",
       "      <th>31</th>\n",
       "      <td>3</td>\n",
       "      <td>1</td>\n",
       "      <td>2</td>\n",
       "      <td>65</td>\n",
       "    </tr>\n",
       "    <tr>\n",
       "      <th>32</th>\n",
       "      <td>3</td>\n",
       "      <td>1</td>\n",
       "      <td>3</td>\n",
       "      <td>55</td>\n",
       "    </tr>\n",
       "    <tr>\n",
       "      <th>33</th>\n",
       "      <td>3</td>\n",
       "      <td>1</td>\n",
       "      <td>4</td>\n",
       "      <td>52</td>\n",
       "    </tr>\n",
       "    <tr>\n",
       "      <th>34</th>\n",
       "      <td>3</td>\n",
       "      <td>1</td>\n",
       "      <td>5</td>\n",
       "      <td>70</td>\n",
       "    </tr>\n",
       "    <tr>\n",
       "      <th>35</th>\n",
       "      <td>3</td>\n",
       "      <td>2</td>\n",
       "      <td>1</td>\n",
       "      <td>58</td>\n",
       "    </tr>\n",
       "    <tr>\n",
       "      <th>36</th>\n",
       "      <td>3</td>\n",
       "      <td>2</td>\n",
       "      <td>2</td>\n",
       "      <td>63</td>\n",
       "    </tr>\n",
       "    <tr>\n",
       "      <th>37</th>\n",
       "      <td>3</td>\n",
       "      <td>2</td>\n",
       "      <td>3</td>\n",
       "      <td>70</td>\n",
       "    </tr>\n",
       "    <tr>\n",
       "      <th>38</th>\n",
       "      <td>3</td>\n",
       "      <td>2</td>\n",
       "      <td>4</td>\n",
       "      <td>53</td>\n",
       "    </tr>\n",
       "    <tr>\n",
       "      <th>39</th>\n",
       "      <td>3</td>\n",
       "      <td>2</td>\n",
       "      <td>5</td>\n",
       "      <td>60</td>\n",
       "    </tr>\n",
       "    <tr>\n",
       "      <th>40</th>\n",
       "      <td>3</td>\n",
       "      <td>3</td>\n",
       "      <td>1</td>\n",
       "      <td>47</td>\n",
       "    </tr>\n",
       "    <tr>\n",
       "      <th>41</th>\n",
       "      <td>3</td>\n",
       "      <td>3</td>\n",
       "      <td>2</td>\n",
       "      <td>56</td>\n",
       "    </tr>\n",
       "    <tr>\n",
       "      <th>42</th>\n",
       "      <td>3</td>\n",
       "      <td>3</td>\n",
       "      <td>3</td>\n",
       "      <td>51</td>\n",
       "    </tr>\n",
       "    <tr>\n",
       "      <th>43</th>\n",
       "      <td>3</td>\n",
       "      <td>3</td>\n",
       "      <td>4</td>\n",
       "      <td>44</td>\n",
       "    </tr>\n",
       "    <tr>\n",
       "      <th>44</th>\n",
       "      <td>3</td>\n",
       "      <td>3</td>\n",
       "      <td>5</td>\n",
       "      <td>50</td>\n",
       "    </tr>\n",
       "  </tbody>\n",
       "</table>\n",
       "</div>"
      ],
      "text/plain": [
       "    Technician  Manufacturer  Job  Service_Time\n",
       "0            1             1    1            62\n",
       "1            1             1    2            48\n",
       "2            1             1    3            63\n",
       "3            1             1    4            57\n",
       "4            1             1    5            69\n",
       "5            1             2    1            57\n",
       "6            1             2    2            45\n",
       "7            1             2    3            39\n",
       "8            1             2    4            54\n",
       "9            1             2    5            44\n",
       "10           1             3    1            59\n",
       "11           1             3    2            53\n",
       "12           1             3    3            67\n",
       "13           1             3    4            66\n",
       "14           1             3    5            47\n",
       "15           2             1    1            51\n",
       "16           2             1    2            57\n",
       "17           2             1    3            45\n",
       "18           2             1    4            50\n",
       "19           2             1    5            39\n",
       "20           2             2    1            61\n",
       "21           2             2    2            58\n",
       "22           2             2    3            70\n",
       "23           2             2    4            66\n",
       "24           2             2    5            51\n",
       "25           2             3    1            55\n",
       "26           2             3    2            58\n",
       "27           2             3    3            50\n",
       "28           2             3    4            69\n",
       "29           2             3    5            49\n",
       "30           3             1    1            59\n",
       "31           3             1    2            65\n",
       "32           3             1    3            55\n",
       "33           3             1    4            52\n",
       "34           3             1    5            70\n",
       "35           3             2    1            58\n",
       "36           3             2    2            63\n",
       "37           3             2    3            70\n",
       "38           3             2    4            53\n",
       "39           3             2    5            60\n",
       "40           3             3    1            47\n",
       "41           3             3    2            56\n",
       "42           3             3    3            51\n",
       "43           3             3    4            44\n",
       "44           3             3    5            50"
      ]
     },
     "execution_count": 4,
     "metadata": {},
     "output_type": "execute_result"
    }
   ],
   "source": [
    "df_1"
   ]
  },
  {
   "cell_type": "code",
   "execution_count": 5,
   "id": "d13828c6",
   "metadata": {},
   "outputs": [
    {
     "data": {
      "text/plain": [
       "(45, 4)"
      ]
     },
     "execution_count": 5,
     "metadata": {},
     "output_type": "execute_result"
    }
   ],
   "source": [
    "df_1.shape"
   ]
  },
  {
   "cell_type": "code",
   "execution_count": 6,
   "id": "a1795c4d",
   "metadata": {},
   "outputs": [
    {
     "data": {
      "text/plain": [
       "1    15\n",
       "2    15\n",
       "3    15\n",
       "Name: Technician, dtype: int64"
      ]
     },
     "execution_count": 6,
     "metadata": {},
     "output_type": "execute_result"
    }
   ],
   "source": [
    "df_1[\"Technician\"].value_counts()"
   ]
  },
  {
   "cell_type": "code",
   "execution_count": 7,
   "id": "aa28e1f1",
   "metadata": {},
   "outputs": [
    {
     "data": {
      "text/plain": [
       "1    15\n",
       "2    15\n",
       "3    15\n",
       "Name: Manufacturer, dtype: int64"
      ]
     },
     "execution_count": 7,
     "metadata": {},
     "output_type": "execute_result"
    }
   ],
   "source": [
    "df_1[\"Manufacturer\"].value_counts()"
   ]
  },
  {
   "cell_type": "code",
   "execution_count": 8,
   "id": "cc6276cf",
   "metadata": {},
   "outputs": [
    {
     "data": {
      "text/plain": [
       "(45, 4)"
      ]
     },
     "execution_count": 8,
     "metadata": {},
     "output_type": "execute_result"
    }
   ],
   "source": [
    "df_1.shape"
   ]
  },
  {
   "cell_type": "code",
   "execution_count": 9,
   "id": "cb0e2238",
   "metadata": {},
   "outputs": [
    {
     "data": {
      "text/html": [
       "<div>\n",
       "<style scoped>\n",
       "    .dataframe tbody tr th:only-of-type {\n",
       "        vertical-align: middle;\n",
       "    }\n",
       "\n",
       "    .dataframe tbody tr th {\n",
       "        vertical-align: top;\n",
       "    }\n",
       "\n",
       "    .dataframe thead th {\n",
       "        text-align: right;\n",
       "    }\n",
       "</style>\n",
       "<table border=\"1\" class=\"dataframe\">\n",
       "  <thead>\n",
       "    <tr style=\"text-align: right;\">\n",
       "      <th></th>\n",
       "      <th>Technician</th>\n",
       "      <th>Manufacturer</th>\n",
       "      <th>Job</th>\n",
       "      <th>Service_Time</th>\n",
       "    </tr>\n",
       "  </thead>\n",
       "  <tbody>\n",
       "    <tr>\n",
       "      <th>count</th>\n",
       "      <td>45.000000</td>\n",
       "      <td>45.000000</td>\n",
       "      <td>45.000000</td>\n",
       "      <td>45.000000</td>\n",
       "    </tr>\n",
       "    <tr>\n",
       "      <th>mean</th>\n",
       "      <td>2.000000</td>\n",
       "      <td>2.000000</td>\n",
       "      <td>3.000000</td>\n",
       "      <td>55.822222</td>\n",
       "    </tr>\n",
       "    <tr>\n",
       "      <th>std</th>\n",
       "      <td>0.825723</td>\n",
       "      <td>0.825723</td>\n",
       "      <td>1.430194</td>\n",
       "      <td>8.448477</td>\n",
       "    </tr>\n",
       "    <tr>\n",
       "      <th>min</th>\n",
       "      <td>1.000000</td>\n",
       "      <td>1.000000</td>\n",
       "      <td>1.000000</td>\n",
       "      <td>39.000000</td>\n",
       "    </tr>\n",
       "    <tr>\n",
       "      <th>25%</th>\n",
       "      <td>1.000000</td>\n",
       "      <td>1.000000</td>\n",
       "      <td>2.000000</td>\n",
       "      <td>50.000000</td>\n",
       "    </tr>\n",
       "    <tr>\n",
       "      <th>50%</th>\n",
       "      <td>2.000000</td>\n",
       "      <td>2.000000</td>\n",
       "      <td>3.000000</td>\n",
       "      <td>56.000000</td>\n",
       "    </tr>\n",
       "    <tr>\n",
       "      <th>75%</th>\n",
       "      <td>3.000000</td>\n",
       "      <td>3.000000</td>\n",
       "      <td>4.000000</td>\n",
       "      <td>62.000000</td>\n",
       "    </tr>\n",
       "    <tr>\n",
       "      <th>max</th>\n",
       "      <td>3.000000</td>\n",
       "      <td>3.000000</td>\n",
       "      <td>5.000000</td>\n",
       "      <td>70.000000</td>\n",
       "    </tr>\n",
       "  </tbody>\n",
       "</table>\n",
       "</div>"
      ],
      "text/plain": [
       "       Technician  Manufacturer        Job  Service_Time\n",
       "count   45.000000     45.000000  45.000000     45.000000\n",
       "mean     2.000000      2.000000   3.000000     55.822222\n",
       "std      0.825723      0.825723   1.430194      8.448477\n",
       "min      1.000000      1.000000   1.000000     39.000000\n",
       "25%      1.000000      1.000000   2.000000     50.000000\n",
       "50%      2.000000      2.000000   3.000000     56.000000\n",
       "75%      3.000000      3.000000   4.000000     62.000000\n",
       "max      3.000000      3.000000   5.000000     70.000000"
      ]
     },
     "execution_count": 9,
     "metadata": {},
     "output_type": "execute_result"
    }
   ],
   "source": [
    "df_1.describe()"
   ]
  },
  {
   "cell_type": "code",
   "execution_count": 10,
   "id": "303c8e69",
   "metadata": {},
   "outputs": [
    {
     "name": "stdout",
     "output_type": "stream",
     "text": [
      "<class 'pandas.core.frame.DataFrame'>\n",
      "RangeIndex: 45 entries, 0 to 44\n",
      "Data columns (total 4 columns):\n",
      " #   Column        Non-Null Count  Dtype\n",
      "---  ------        --------------  -----\n",
      " 0   Technician    45 non-null     int64\n",
      " 1   Manufacturer  45 non-null     int64\n",
      " 2   Job           45 non-null     int64\n",
      " 3   Service_Time  45 non-null     int64\n",
      "dtypes: int64(4)\n",
      "memory usage: 1.5 KB\n"
     ]
    }
   ],
   "source": [
    "df_1.info()"
   ]
  },
  {
   "cell_type": "markdown",
   "id": "8ce3d49b",
   "metadata": {},
   "source": [
    "Need to convert categorical value for Technician and Manufacturer "
   ]
  },
  {
   "cell_type": "code",
   "execution_count": 11,
   "id": "1ccedd1e",
   "metadata": {},
   "outputs": [
    {
     "ename": "NameError",
     "evalue": "name 'DF' is not defined",
     "output_type": "error",
     "traceback": [
      "\u001b[0;31m---------------------------------------------------------------------------\u001b[0m",
      "\u001b[0;31mNameError\u001b[0m                                 Traceback (most recent call last)",
      "\u001b[0;32m/var/folders/w5/y4zxnb0130zgls3vnryxcytr0000gn/T/ipykernel_5780/864272474.py\u001b[0m in \u001b[0;36m<module>\u001b[0;34m\u001b[0m\n\u001b[0;32m----> 1\u001b[0;31m \u001b[0mDF\u001b[0m\u001b[0;34m.\u001b[0m\u001b[0mPriceLevel\u001b[0m \u001b[0;34m=\u001b[0m \u001b[0mpd\u001b[0m\u001b[0;34m.\u001b[0m\u001b[0mCategorical\u001b[0m\u001b[0;34m(\u001b[0m\u001b[0mDF\u001b[0m\u001b[0;34m.\u001b[0m\u001b[0mPriceLevel\u001b[0m\u001b[0;34m)\u001b[0m\u001b[0;34m\u001b[0m\u001b[0;34m\u001b[0m\u001b[0m\n\u001b[0m",
      "\u001b[0;31mNameError\u001b[0m: name 'DF' is not defined"
     ]
    }
   ],
   "source": [
    "DF.PriceLevel = pd.Categorical(DF.PriceLevel)"
   ]
  },
  {
   "cell_type": "code",
   "execution_count": null,
   "id": "5812b098",
   "metadata": {},
   "outputs": [],
   "source": [
    "df_1.Technician=pd.Categorical(df_1.Technician)"
   ]
  },
  {
   "cell_type": "code",
   "execution_count": null,
   "id": "2fe171ef",
   "metadata": {},
   "outputs": [],
   "source": [
    "df_1.Manufacturer=pd.Categorical(df_1.Manufacturer)"
   ]
  },
  {
   "cell_type": "code",
   "execution_count": null,
   "id": "ce127bdd",
   "metadata": {},
   "outputs": [],
   "source": [
    "df_1.info()"
   ]
  },
  {
   "cell_type": "markdown",
   "id": "0b5f1cd2",
   "metadata": {},
   "source": [
    "1) State the Null and Alternate Hypothesis for conducting one-way ANOVA for both the\n",
    "variables ‘Manufacturer’ and ‘Technician individually."
   ]
  },
  {
   "cell_type": "markdown",
   "id": "5579da99",
   "metadata": {},
   "source": [
    "One Way ANOVA of Manufacturer "
   ]
  },
  {
   "cell_type": "markdown",
   "id": "feada2b5",
   "metadata": {},
   "source": [
    "Ho:There is No significance difference between the Manufactures \n",
    "Ha:There is significance difference between the Manufactures \n"
   ]
  },
  {
   "cell_type": "markdown",
   "id": "0264d96f",
   "metadata": {},
   "source": [
    "Ho:μ1=μ2=μ3\n",
    "Ha:μ1<>μ2=μ3(One of the Mean is different)"
   ]
  },
  {
   "cell_type": "markdown",
   "id": "b94dfc98",
   "metadata": {},
   "source": [
    "One Way ANOVA of Technician"
   ]
  },
  {
   "cell_type": "markdown",
   "id": "11d8f087",
   "metadata": {},
   "source": [
    "Ho:There is No significance difference between the Technician\n",
    "Ha:There is significance difference between the Technician\n"
   ]
  },
  {
   "cell_type": "markdown",
   "id": "b88cf23c",
   "metadata": {},
   "source": [
    "Ho:μ1=μ2=μ3\n",
    "Ha:μ1<>μ2=μ3(One of the Mean is different)"
   ]
  },
  {
   "cell_type": "markdown",
   "id": "7a6d2971",
   "metadata": {},
   "source": [
    "2) Perform one-way ANOVA for variable ‘Manufacturer’ with respect to the variable ‘Service\n",
    "Time’. State whether the Null Hypothesis is accepted or rejected based on the ANOVA results. "
   ]
  },
  {
   "cell_type": "markdown",
   "id": "a1a559c3",
   "metadata": {},
   "source": [
    "Ho:There is No significance difference between the Manufactures \n",
    "Ha:There is significance difference between the Manufactures \n",
    "\n",
    "Ho:μ1=μ2=μ3\n",
    "Ha:μ1<>μ2=μ3(One of the Mean is different)\n",
    "    "
   ]
  },
  {
   "cell_type": "markdown",
   "id": "2fb588ea",
   "metadata": {},
   "source": [
    "2) Perform one-way ANOVA for variable ‘Manufacturer’ with respect to the variable ‘Service\n",
    "Time’. State whether the Null Hypothesis is accepted or rejected based on the ANOVA results. -"
   ]
  },
  {
   "cell_type": "code",
   "execution_count": null,
   "id": "dd6c76d6",
   "metadata": {},
   "outputs": [],
   "source": [
    "formula = 'Service_Time ~ C(Manufacturer)'\n",
    "model = ols(formula, df_1).fit()\n",
    "aov_table = anova_lm(model)\n",
    "print(aov_table)"
   ]
  },
  {
   "cell_type": "markdown",
   "id": "88cfe8ec",
   "metadata": {},
   "source": [
    "On performing One way Annova for Manufacturing with Respect to Service Time the Null Value has  around 80% acceptance rate,which Mean that we can prove the Null \n",
    "Hypothesis.So there is no significant difference between the Means in Manufactures "
   ]
  },
  {
   "cell_type": "code",
   "execution_count": null,
   "id": "6d6f62cb",
   "metadata": {},
   "outputs": [],
   "source": [
    "formula = 'Service_Time ~ C(Technician)'\n",
    "model = ols(formula, df_1).fit()\n",
    "aov_table = anova_lm(model)\n",
    "print(aov_table)"
   ]
  },
  {
   "cell_type": "markdown",
   "id": "11658b13",
   "metadata": {},
   "source": [
    "On performing One way Annova for Manufacturing with Respect to Service Time the Null Value has around 80% acceptance rate,which Mean that we can prove the Null Hypothesis.So there is no significant difference between the Means in Manufactures"
   ]
  },
  {
   "cell_type": "code",
   "execution_count": null,
   "id": "d04dbe38",
   "metadata": {},
   "outputs": [],
   "source": [
    "sns.pointplot(x='Manufacturer', y='Service_Time', data=df_1)"
   ]
  },
  {
   "cell_type": "code",
   "execution_count": null,
   "id": "ddf9e498",
   "metadata": {},
   "outputs": [],
   "source": [
    "sns.pointplot(x='Technician', y='Service_Time', data=df_1)"
   ]
  },
  {
   "cell_type": "code",
   "execution_count": null,
   "id": "5638c8b4",
   "metadata": {},
   "outputs": [],
   "source": [
    "sns.pointplot(x='Manufacturer', y='Service_Time', data=df_1, hue='Technician')"
   ]
  },
  {
   "cell_type": "code",
   "execution_count": null,
   "id": "28fc9d95",
   "metadata": {},
   "outputs": [],
   "source": [
    "sns.pointplot(x='Technician', y='Service_Time', data=df_1, hue='Manufacturer')"
   ]
  },
  {
   "cell_type": "code",
   "execution_count": null,
   "id": "7f438074",
   "metadata": {},
   "outputs": [],
   "source": [
    "formula = 'Service_Time~ C(Manufacturer)+C(Technician)'\n",
    "model = ols(formula, df_1).fit()\n",
    "aov_table = anova_lm(model)\n",
    "print(aov_table)"
   ]
  },
  {
   "cell_type": "code",
   "execution_count": null,
   "id": "3008f8e3",
   "metadata": {},
   "outputs": [],
   "source": [
    "formula = 'Service_Time~ C(Manufacturer)+C(Technician)+ C(Manufacturer):C(Technician)'\n",
    "model = ols(formula, df_1).fit()\n",
    "aov_table = anova_lm(model)\n",
    "print(aov_table)"
   ]
  }
 ],
 "metadata": {
  "kernelspec": {
   "display_name": "Python 3 (ipykernel)",
   "language": "python",
   "name": "python3"
  },
  "language_info": {
   "codemirror_mode": {
    "name": "ipython",
    "version": 3
   },
   "file_extension": ".py",
   "mimetype": "text/x-python",
   "name": "python",
   "nbconvert_exporter": "python",
   "pygments_lexer": "ipython3",
   "version": "3.9.7"
  }
 },
 "nbformat": 4,
 "nbformat_minor": 5
}
